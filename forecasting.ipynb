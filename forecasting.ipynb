{
 "cells": [
  {
   "cell_type": "code",
   "execution_count": 196,
   "metadata": {},
   "outputs": [],
   "source": [
    "#import os\n",
    "\n",
    "# args.output_attention = True\n",
    "\n",
    "#exp = Exp(args)\n",
    "\n",
    "#model = exp.model\n",
    "\n",
    "#setting = 'ETTh1_96_24_Autoformer_ETTh1_ftM_sl96_ll48_pl24_dm512_nh8_el2_dl1_df2048_fc1_ebtimeF_dtTrue_Exp_0'\n",
    "#path = os.path.join(args.checkpoints,setting,'checkpoint.pth')\n",
    "#model.load_state_dict(torch.load(path))"
   ]
  },
  {
   "cell_type": "code",
   "execution_count": 197,
   "metadata": {},
   "outputs": [
    {
     "name": "stdout",
     "output_type": "stream",
     "text": [
      "True\n",
      "1\n",
      "NVIDIA GeForce GTX 1660 Ti\n",
      "0\n"
     ]
    }
   ],
   "source": [
    "import torch\n",
    "import os\n",
    "print(torch.cuda.is_available())\n",
    "print(torch.cuda.device_count())\n",
    "print(torch.cuda.get_device_name())\n",
    "print(torch.cuda.current_device())\n",
    "torch.cuda.set_device(0)\n",
    "\n",
    "os.environ[\"CUDA_DEVICE_ORDER\"]=\"PCI_BUS_ID\"\n",
    "os.environ[\"CUDA_VISIBLE_DEVICES\"]=\"0,1\"\n",
    "# os.environ[\"CUDA_VISIBLE_DEVICES\"] = '0' #disable CUDA by setting CUDA_VISIBLE_DEVICES to an empty string \n"
   ]
  },
  {
   "cell_type": "code",
   "execution_count": 213,
   "metadata": {},
   "outputs": [
    {
     "name": "stdout",
     "output_type": "stream",
     "text": [
      "Args in experiment:\n",
      "{'is_training': 1, 'model_id': 'gold_seq336_0_30', 'model': 'Informer', 'data': 'custom', 'root_path': './dataset/commodity/', 'data_path': 'silver_data.csv', 'features': 'S', 'target': 'OT', 'freq': 'b', 'checkpoints': './checkpoints/', 'seq_len': 96, 'label_len': 56, 'pred_len': 56, 'individual': False, 'embed_type': 0, 'enc_in': 1, 'dec_in': 1, 'c_out': 1, 'd_model': 512, 'n_heads': 8, 'e_layers': 2, 'd_layers': 1, 'd_ff': 2048, 'moving_avg': 25, 'factor': 3, 'distil': True, 'dropout': 0.05, 'embed': 'timeF', 'do_predict': True, 'num_workers': 10, 'itr': 1, 'train_epochs': 20, 'patience': 3, 'learning_rate': 0.0005, 'batch_size': 8, 'lradj': 'type1', 'des': 'Exp', 'gpu': 0, 'devices': '0', 'use_gpu': True, 'use_multi_gpu': False}\n"
     ]
    }
   ],
   "source": [
    "import argparse\n",
    "import os\n",
    "import torch\n",
    "from exp.exp_main import Exp_Main\n",
    "import random\n",
    "import numpy as np\n",
    "from utils.tools import dotdict\n",
    "\n",
    "fix_seed = 2021\n",
    "random.seed(fix_seed)\n",
    "torch.manual_seed(fix_seed)\n",
    "np.random.seed(fix_seed)\n",
    "\n",
    "parser = argparse.ArgumentParser(description='Autoformer & Transformer family for Time Series Forecasting')\n",
    "\n",
    "# basic config\n",
    "parser.add_argument('--is_training', type=int, required=True, default=1, help='status')\n",
    "parser.add_argument('--model_id', type=str, required=True, default='test', help='model id')\n",
    "parser.add_argument('--model', type=str, required=True, default='Autoformer',\n",
    "                    help='model name, options: [Autoformer, Informer, Transformer]')\n",
    "\n",
    "# data loader\n",
    "parser.add_argument('--data', type=str, required=True, default='ETTm1', help='dataset type')\n",
    "parser.add_argument('--root_path', type=str, default='./data/ETT/', help='root path of the data file')\n",
    "parser.add_argument('--data_path', type=str, default='ETTh1.csv', help='data file')\n",
    "parser.add_argument('--features', type=str, default='M',\n",
    "                    help='forecasting task, options:[M, S, MS]; M:multivariate predict multivariate, S:univariate predict univariate, MS:multivariate predict univariate')\n",
    "parser.add_argument('--target', type=str, default='OT', help='target feature in S or MS task')\n",
    "parser.add_argument('--freq', type=str, default='h',\n",
    "                    help='freq for time features encoding, options:[s:secondly, t:minutely, h:hourly, d:daily, b:business days, w:weekly, m:monthly], you can also use more detailed freq like 15min or 3h')\n",
    "parser.add_argument('--checkpoints', type=str, default='./checkpoints/', help='location of model checkpoints')\n",
    "\n",
    "# forecasting task\n",
    "parser.add_argument('--seq_len', type=int, default=96, help='input sequence length')\n",
    "parser.add_argument('--label_len', type=int, default=48, help='start token length')\n",
    "parser.add_argument('--pred_len', type=int, default=96, help='prediction sequence length')\n",
    "\n",
    "\n",
    "# DLinear\n",
    "parser.add_argument('--individual', action='store_true', default=False, help='DLinear: a linear layer for each variate(channel) individually')\n",
    "\n",
    "# Formers \n",
    "parser.add_argument('--embed_type', type=int, default=0, help='0: default 1: value embedding + temporal embedding + positional embedding 2: value embedding + temporal embedding 3: value embedding + positional embedding 4: value embedding')\n",
    "parser.add_argument('--enc_in', type=int, default=7, help='encoder input size') # DLinear with --individual, use this hyperparameter as the number of channels\n",
    "parser.add_argument('--dec_in', type=int, default=7, help='decoder input size')\n",
    "parser.add_argument('--c_out', type=int, default=7, help='output size')\n",
    "parser.add_argument('--d_model', type=int, default=512, help='dimension of model')\n",
    "parser.add_argument('--n_heads', type=int, default=8, help='num of heads')\n",
    "parser.add_argument('--e_layers', type=int, default=2, help='num of encoder layers')\n",
    "parser.add_argument('--d_layers', type=int, default=1, help='num of decoder layers')\n",
    "parser.add_argument('--d_ff', type=int, default=2048, help='dimension of fcn')\n",
    "parser.add_argument('--moving_avg', type=int, default=25, help='window size of moving average')\n",
    "parser.add_argument('--factor', type=int, default=1, help='attn factor')\n",
    "parser.add_argument('--distil', action='store_false',\n",
    "                    help='whether to use distilling in encoder, using this argument means not using distilling',\n",
    "                    default=True)\n",
    "parser.add_argument('--dropout', type=float, default=0.05, help='dropout')\n",
    "parser.add_argument('--embed', type=str, default='timeF',\n",
    "                    help='time features encoding, options:[timeF, fixed, learned]')\n",
    "parser.add_argument('--activation', type=str, default='gelu', help='activation')\n",
    "parser.add_argument('--output_attention', action='store_true', help='whether to output attention in ecoder')\n",
    "parser.add_argument('--do_predict', action='store_true', help='whether to predict unseen future data')\n",
    "\n",
    "# optimization\n",
    "parser.add_argument('--num_workers', type=int, default=10, help='data loader num workers')\n",
    "parser.add_argument('--itr', type=int, default=2, help='experiments times')\n",
    "parser.add_argument('--train_epochs', type=int, default=10, help='train epochs')\n",
    "parser.add_argument('--batch_size', type=int, default=32, help='batch size of train input data')\n",
    "parser.add_argument('--patience', type=int, default=3, help='early stopping patience')\n",
    "parser.add_argument('--learning_rate', type=float, default=0.0001, help='optimizer learning rate')\n",
    "parser.add_argument('--des', type=str, default='test', help='exp description')\n",
    "parser.add_argument('--loss', type=str, default='mse', help='loss function')\n",
    "parser.add_argument('--lradj', type=str, default='type1', help='adjust learning rate')\n",
    "parser.add_argument('--use_amp', action='store_true', help='use automatic mixed precision training', default=False)\n",
    "\n",
    "# GPU\n",
    "parser.add_argument('--use_gpu', type=bool, default=True, help='use gpu')\n",
    "parser.add_argument('--gpu', type=int, default=0, help='gpu')\n",
    "parser.add_argument('--use_multi_gpu', action='store_true', help='use multiple gpus', default=False)\n",
    "parser.add_argument('--devices', type=str, default='0,1,2,3', help='device ids of multile gpus')\n",
    "parser.add_argument('--test_flop', action='store_true', default=False, help='See utils/tools for usage')\n",
    "\n",
    "# args = parser.parse_args()\n",
    "args = dotdict()\n",
    "\n",
    "# basic config\n",
    "args.is_training = 1\n",
    "args.model_id = 'gold_seq336_0_30'\n",
    "args.model = 'Informer' #Autoformer/Informer/Transformer/DLinear/NLinear\n",
    "\n",
    "# data loader\n",
    "args.data = 'custom'\n",
    "args.root_path = './dataset/commodity/'\n",
    "args.data_path ='silver_data.csv' \n",
    "args.features = 'S'\n",
    "args.target = 'OT'\n",
    "args.freq = 'b'\n",
    "args.checkpoints = './checkpoints/'\n",
    "\n",
    "# forecasting task\n",
    "args.seq_len = 96\n",
    "args.label_len = 56\n",
    "args.pred_len = 56\n",
    "\n",
    "# DLinear\n",
    "args.individual = False\n",
    "\n",
    "# Formers \n",
    "args.embed_type = 0\n",
    "args.enc_in = 1\n",
    "args.dec_in = 1\n",
    "args.c_out = 1\n",
    "args.d_model = 512\n",
    "args.n_heads = 8\n",
    "args.e_layers = 2\n",
    "args.d_layers = 1\n",
    "args.d_ff = 2048\n",
    "args.moving_avg = 25\n",
    "args.factor = 3\n",
    "args.distil = True\n",
    "args.dropout = 0.05\n",
    "args.embed = 'timeF'\n",
    "args.do_predict = True\n",
    "\n",
    "# optimization\n",
    "args.num_workers = 10\n",
    "args.itr = 1\n",
    "args.train_epochs = 20\n",
    "args.patience = 3\n",
    "args.learning_rate = 0.0005\n",
    "args.batch_size = 8\n",
    "args.lradj = 'type1'\n",
    "args.des = 'Exp'\n",
    "\n",
    "# GPU\n",
    "args.gpu = 0\n",
    "args.devices = '0'\n",
    "args.use_gpu = True\n",
    "args.use_multi_gpu = False\n",
    "\n",
    "print('Args in experiment:')\n",
    "print(args)\n",
    "\n",
    "Exp = Exp_Main\n",
    "\n",
    "\n"
   ]
  },
  {
   "cell_type": "code",
   "execution_count": 214,
   "metadata": {},
   "outputs": [
    {
     "name": "stdout",
     "output_type": "stream",
     "text": [
      "Use GPU: cuda:0\n",
      ">>>>>>>start training : gold_seq336_0_30_Informer_custom_ftS_sl96_ll56_pl56_dm512_nh8_el2_dl1_df2048_fc3_ebtimeF_dtTrue_Exp_0>>>>>>>>>>>>>>>>>>>>>>>>>>\n",
      "train 1608\n",
      "val 197\n",
      "test 447\n",
      "\titers: 100, epoch: 1 | loss: 0.2021711\n",
      "\tspeed: 0.1426s/iter; left time: 559.0804s\n",
      "\titers: 200, epoch: 1 | loss: 0.1816181\n",
      "\tspeed: 0.0554s/iter; left time: 211.5474s\n",
      "Epoch: 1 cost time: 20.896006107330322\n",
      "Epoch: 1, Steps: 201 | Train Loss: 0.2185918 Vali Loss: 1.1887875 Test Loss: 0.7265239\n",
      "Validation loss decreased (inf --> 1.188787).  Saving model ...\n",
      "Updating learning rate to 0.0005\n",
      "\titers: 100, epoch: 2 | loss: 0.0542300\n",
      "\tspeed: 0.3792s/iter; left time: 1410.4475s\n",
      "\titers: 200, epoch: 2 | loss: 0.0947414\n",
      "\tspeed: 0.0558s/iter; left time: 202.0916s\n",
      "Epoch: 2 cost time: 21.19674849510193\n",
      "Epoch: 2, Steps: 201 | Train Loss: 0.1081224 Vali Loss: 0.8881936 Test Loss: 0.8938068\n",
      "Validation loss decreased (1.188787 --> 0.888194).  Saving model ...\n",
      "Updating learning rate to 0.00025\n",
      "\titers: 100, epoch: 3 | loss: 0.0575378\n",
      "\tspeed: 0.3838s/iter; left time: 1350.7510s\n",
      "\titers: 200, epoch: 3 | loss: 0.0618697\n",
      "\tspeed: 0.0565s/iter; left time: 193.1858s\n",
      "Epoch: 3 cost time: 21.08883762359619\n",
      "Epoch: 3, Steps: 201 | Train Loss: 0.0756405 Vali Loss: 0.8574850 Test Loss: 0.6135015\n",
      "Validation loss decreased (0.888194 --> 0.857485).  Saving model ...\n",
      "Updating learning rate to 0.000125\n",
      "\titers: 100, epoch: 4 | loss: 0.0716742\n",
      "\tspeed: 0.3864s/iter; left time: 1282.1803s\n",
      "\titers: 200, epoch: 4 | loss: 0.0991304\n",
      "\tspeed: 0.0559s/iter; left time: 179.9692s\n",
      "Epoch: 4 cost time: 21.363080263137817\n",
      "Epoch: 4, Steps: 201 | Train Loss: 0.0568288 Vali Loss: 0.6834599 Test Loss: 0.5726272\n",
      "Validation loss decreased (0.857485 --> 0.683460).  Saving model ...\n",
      "Updating learning rate to 6.25e-05\n",
      "\titers: 100, epoch: 5 | loss: 0.0905758\n",
      "\tspeed: 0.3935s/iter; left time: 1226.6109s\n",
      "\titers: 200, epoch: 5 | loss: 0.0340202\n",
      "\tspeed: 0.0563s/iter; left time: 169.7686s\n",
      "Epoch: 5 cost time: 21.488810300827026\n",
      "Epoch: 5, Steps: 201 | Train Loss: 0.0476245 Vali Loss: 0.7327155 Test Loss: 0.5334677\n",
      "EarlyStopping counter: 1 out of 3\n",
      "Updating learning rate to 3.125e-05\n",
      "\titers: 100, epoch: 6 | loss: 0.0573512\n",
      "\tspeed: 0.3877s/iter; left time: 1130.4256s\n",
      "\titers: 200, epoch: 6 | loss: 0.0445531\n",
      "\tspeed: 0.0563s/iter; left time: 158.5913s\n",
      "Epoch: 6 cost time: 21.469085454940796\n",
      "Epoch: 6, Steps: 201 | Train Loss: 0.0424220 Vali Loss: 0.7091843 Test Loss: 0.6172557\n",
      "EarlyStopping counter: 2 out of 3\n",
      "Updating learning rate to 1.5625e-05\n",
      "\titers: 100, epoch: 7 | loss: 0.0746201\n",
      "\tspeed: 0.3887s/iter; left time: 1055.3212s\n",
      "\titers: 200, epoch: 7 | loss: 0.1009749\n",
      "\tspeed: 0.0569s/iter; left time: 148.8576s\n",
      "Epoch: 7 cost time: 21.595465421676636\n",
      "Epoch: 7, Steps: 201 | Train Loss: 0.0395009 Vali Loss: 0.6961470 Test Loss: 0.5644498\n",
      "EarlyStopping counter: 3 out of 3\n",
      "Early stopping\n",
      ">>>>>>>testing : gold_seq336_0_30_Informer_custom_ftS_sl96_ll56_pl56_dm512_nh8_el2_dl1_df2048_fc3_ebtimeF_dtTrue_Exp_0<<<<<<<<<<<<<<<<<<<<<<<<<<<<<<<<<\n",
      "test 447\n",
      "mse:0.572 & mae:0.633\n"
     ]
    }
   ],
   "source": [
    "if args.is_training:\n",
    "    for ii in range(args.itr):\n",
    "        # setting record of experiments\n",
    "        setting = '{}_{}_{}_ft{}_sl{}_ll{}_pl{}_dm{}_nh{}_el{}_dl{}_df{}_fc{}_eb{}_dt{}_{}_{}'.format(\n",
    "            args.model_id,\n",
    "            args.model,\n",
    "            args.data,\n",
    "            args.features,\n",
    "            args.seq_len,\n",
    "            args.label_len,\n",
    "            args.pred_len,\n",
    "            args.d_model,\n",
    "            args.n_heads,\n",
    "            args.e_layers,\n",
    "            args.d_layers,\n",
    "            args.d_ff,\n",
    "            args.factor,\n",
    "            args.embed,\n",
    "            args.distil,\n",
    "            args.des, ii)\n",
    "\n",
    "        exp = Exp(args)  # set experiments\n",
    "        print('>>>>>>>start training : {}>>>>>>>>>>>>>>>>>>>>>>>>>>'.format(setting))\n",
    "        exp.train(setting)\n",
    "\n",
    "        print('>>>>>>>testing : {}<<<<<<<<<<<<<<<<<<<<<<<<<<<<<<<<<'.format(setting))\n",
    "        exp.test(setting)\n",
    "\n",
    "        torch.cuda.empty_cache()"
   ]
  },
  {
   "cell_type": "code",
   "execution_count": 16,
   "metadata": {},
   "outputs": [
    {
     "name": "stdout",
     "output_type": "stream",
     "text": [
      "<class 'pandas.core.frame.DataFrame'>\n",
      "RangeIndex: 2514 entries, 0 to 2513\n",
      "Data columns (total 7 columns):\n",
      " #   Column     Non-Null Count  Dtype  \n",
      "---  ------     --------------  -----  \n",
      " 0   date       2514 non-null   object \n",
      " 1   Open       2514 non-null   float64\n",
      " 2   High       2514 non-null   float64\n",
      " 3   Low        2514 non-null   float64\n",
      " 4   OT         2514 non-null   float64\n",
      " 5   Adj Close  2514 non-null   float64\n",
      " 6   Volume     2514 non-null   int64  \n",
      "dtypes: float64(5), int64(1), object(1)\n",
      "memory usage: 137.6+ KB\n"
     ]
    }
   ],
   "source": [
    "import pandas as pd\n",
    "exp.args.root_path = './dataset/commodity/'\n",
    "exp.args.data_path = 'gold_data.csv'\n",
    "\n",
    "df = pd.read_csv(os.path.join(args.root_path, args.data_path))\n",
    "df.head()\n",
    "df.info()"
   ]
  },
  {
   "cell_type": "code",
   "execution_count": 18,
   "metadata": {
    "scrolled": false
   },
   "outputs": [],
   "source": [
    "# df['date'] = pd.to_datetime(df['date'])\n",
    "# # df.to_csv(os.path.join(args.root_path, args.data_path), index=False) \n",
    "# last_date = df['date'].max()\n",
    "# new_rows = pd.DataFrame(columns=df.columns, index=range(1, 31))\n",
    "# new_rows['date'] = pd.date_range(start=last_date + pd.DateOffset(1), periods=30)\n",
    "# df = pd.concat([df, new_rows], sort=False)\n",
    "# df.tail()\n",
    "\n"
   ]
  },
  {
   "cell_type": "code",
   "execution_count": 19,
   "metadata": {},
   "outputs": [
    {
     "name": "stdout",
     "output_type": "stream",
     "text": [
      ">>>>>>>predicting : gold_seq336_0_30_Autoformer_custom_ftMS_sl336_ll14_pl14_dm512_nh8_el2_dl1_df2048_fc3_ebtimeF_dtTrue_Exp_0<<<<<<<<<<<<<<<<<<<<<<<<<<<<<<<<<\n",
      "pred 1\n"
     ]
    }
   ],
   "source": [
    "if args.do_predict:\n",
    "    print('>>>>>>>predicting : {}<<<<<<<<<<<<<<<<<<<<<<<<<<<<<<<<<'.format(setting))\n",
    "    prediction=exp.predict(setting, True)\n",
    "    prediction = np.load('./results/'+setting+'/real_prediction.npy')\n",
    "\n",
    "    prediction.shape\n",
    "    "
   ]
  },
  {
   "cell_type": "code",
   "execution_count": 20,
   "metadata": {},
   "outputs": [],
   "source": [
    "# from torch.utils.data import DataLoader\n",
    "# import pandas as pd\n",
    "# import numpy as np\n",
    "# from datetime import datetime\n",
    "\n",
    "# date_obj = '10/14/2022'\n",
    "# #date_obj = datetime.strptime(date, '%m/%d/%Y')\n",
    "\n",
    "# print(date_obj)\n",
    "\n",
    "# def create_prediction_dataset(data, seq_len, pred_len, start_date):\n",
    "#     start_index = data[data['date'] == start_date].index[0]\n",
    "#     end_index = start_index + args.seq_len + args.pred_len\n",
    "#     prediction_data = data.iloc[start_index:end_index]\n",
    "#     return prediction_data\n",
    "\n",
    "# # Create the prediction dataset\n",
    "\n",
    "# pred_data = create_prediction_dataset(df, args.seq_len, args.pred_len, date_obj)\n",
    "# pred_data.head()\n",
    "# print(pred_data)\n",
    "\n",
    "# pred_loader = DataLoader(pred_data, batch_size = args.batch_size, shuffle=False)\n",
    "\n",
    "# predictions = exp.predict(setting, pred_loader, True)"
   ]
  },
  {
   "cell_type": "code",
   "execution_count": 21,
   "metadata": {},
   "outputs": [
    {
     "name": "stdout",
     "output_type": "stream",
     "text": [
      "489 489\n"
     ]
    }
   ],
   "source": [
    "from data_provider.data_loader import Dataset_Pred\n",
    "from torch.utils.data import DataLoader\n",
    "from data_provider.data_loader import Dataset_Custom\n",
    "Data = Dataset_Custom\n",
    "\n",
    "freq = 'b'\n",
    "\n",
    "Data = Dataset_Custom\n",
    "timeenc = 0 if args.embed!='timeF' else 1\n",
    "flag = 'test'; shuffle_flag = False; drop_last = True; batch_size = 1\n",
    "\n",
    "data_set = Data(\n",
    "    root_path=args.root_path,\n",
    "    data_path=args.data_path,\n",
    "    flag=flag,\n",
    "    size=[args.seq_len, args.label_len, args.pred_len],\n",
    "    features=args.features,\n",
    "    timeenc=timeenc,\n",
    "    target=args.target, # HULL here\n",
    "    freq=args.freq # 'h': hourly, 't':minutely\n",
    ")\n",
    "data_loader = DataLoader(\n",
    "    data_set,\n",
    "    batch_size=batch_size,\n",
    "    shuffle=shuffle_flag,\n",
    "    num_workers=args.num_workers,\n",
    "    drop_last=drop_last)\n",
    "\n",
    "print(len(data_set), len(data_loader))\n"
   ]
  },
  {
   "cell_type": "code",
   "execution_count": null,
   "metadata": {},
   "outputs": [],
   "source": [
    "exp.predict(setting, data_loader)"
   ]
  },
  {
   "cell_type": "code",
   "execution_count": null,
   "metadata": {},
   "outputs": [],
   "source": [
    "# When we finished exp.train(setting) and exp.test(setting), we will get a trained model and the results of test experiment\n",
    "# The results of test experiment will be saved in ./results/{setting}/pred.npy (prediction of test dataset) and ./results/{setting}/true.npy (groundtruth of test dataset)\n",
    "\n",
    "preds = np.load('./results/'+setting+'/pred.npy')\n",
    "trues = np.load('./results/'+setting+'/true.npy')\n",
    "\n",
    "# [samples, pred_len, dimensions]\n",
    "print(preds.shape, trues.shape)"
   ]
  },
  {
   "cell_type": "code",
   "execution_count": 22,
   "metadata": {
    "scrolled": false
   },
   "outputs": [
    {
     "name": "stdout",
     "output_type": "stream",
     "text": [
      "torch.Size([1, 6, 14])\n",
      "torch.Size([14])\n"
     ]
    },
    {
     "data": {
      "image/png": "[encoded data removed]",
      "text/plain": [
       "<Figure size 432x288 with 1 Axes>"
      ]
     },
     "metadata": {
      "needs_background": "light"
     },
     "output_type": "display_data"
    },
    {
     "name": "stdout",
     "output_type": "stream",
     "text": [
      "torch.Size([14])\n",
      "torch.Size([14])\n"
     ]
    },
    {
     "data": {
      "image/png": "[encoded data removed]",
      "text/plain": [
       "<Figure size 432x288 with 1 Axes>"
      ]
     },
     "metadata": {
      "needs_background": "light"
     },
     "output_type": "display_data"
    },
    {
     "name": "stdout",
     "output_type": "stream",
     "text": [
      "torch.Size([14])\n"
     ]
    },
    {
     "data": {
      "image/png": "[encoded data removed]",
      "text/plain": [
       "<Figure size 432x288 with 1 Axes>"
      ]
     },
     "metadata": {
      "needs_background": "light"
     },
     "output_type": "display_data"
    },
    {
     "name": "stdout",
     "output_type": "stream",
     "text": [
      "torch.Size([14])\n",
      "torch.Size([14])\n"
     ]
    },
    {
     "data": {
      "image/png": "[encoded data removed]",
      "text/plain": [
       "<Figure size 432x288 with 1 Axes>"
      ]
     },
     "metadata": {
      "needs_background": "light"
     },
     "output_type": "display_data"
    }
   ],
   "source": [
    "%matplotlib inline\n",
    "import matplotlib.pyplot as plt\n",
    "\n",
    "import torch.nn.functional as F\n",
    "import torch\n",
    "import matplotlib.pyplot as plt \n",
    "import numpy as np\n",
    "import matplotlib\n",
    "data_pred = np.load('./results/'+setting+'/real_prediction.npy')\n",
    "data_pred = torch.from_numpy(data_pred).permute(0,2,1)\n",
    "\n",
    "plt.figure()\n",
    "print(data_pred.shape)\n",
    "#预测OT\n",
    "plt.plot(data_pred[-1,-1,:])\n",
    "print(data_pred[-1,-1,:].shape)\n",
    "plt.show()\n",
    "plt.plot(data_pred[0,-1,:])\n",
    "print(data_pred[0,-1,:].shape)\n",
    "#plt.show()\n",
    "# draw HUFL prediction\n",
    "plt.plot(data_pred[0,0,:])\n",
    "print(data_pred[-1,-1,:].shape)\n",
    "plt.show()\n",
    "'''\n",
    "Ground Truth\n",
    "'''\n",
    "data_gt = np.load('./results/'+setting+'/true.npy')\n",
    "data_gt = torch.from_numpy(data_gt).permute(0,2,1)\n",
    "\n",
    "# OT\n",
    "plt.plot(data_gt[-1,-1,:])\n",
    "print(data_gt[-1,-1,:].shape)\n",
    "plt.show()\n",
    "plt.plot(data_gt[0,-1,:])\n",
    "print(data_gt[0,-1,:].shape)\n",
    "#plt.show()\n",
    "# draw HUFL prediction\n",
    "plt.plot(data_gt[0,0,:])\n",
    "print(data_gt[-1,-1,:].shape)\n",
    "plt.show()\n",
    "\n"
   ]
  },
  {
   "cell_type": "code",
   "execution_count": 23,
   "metadata": {},
   "outputs": [],
   "source": [
    "if (args.model == 'DLinear'):\n",
    "    model_name = setting\n",
    "    for root, dirs, files in os.walk(\"checkpoints\"):\n",
    "        for name in files:\n",
    "            model_path = os.path.join(root, name)\n",
    "            if model_name not in model_path:\n",
    "                continue\n",
    "            weights = torch.load(model_path,map_location=torch.device('cpu'))\n",
    "            weights_list = {'seasonal': weights['Linear_Seasonal.weight'].numpy(),\n",
    "                            'trend': weights['Linear_Trend.weight'].numpy()}\n",
    "\n",
    "            #print(root)\n",
    "            #print(root.split('/'))\n",
    "\n",
    "            save_root = 'weights_plot/%s'%root.split('\\\\')[1] #changed from save_root = 'weights_plot/%s'%root.split('/')[1]\n",
    "            if not os.path.exists('weights_plot'):\n",
    "                os.mkdir('weights_plot')\n",
    "            if not os.path.exists(save_root):\n",
    "                os.mkdir(save_root)\n",
    "        \n",
    "            for w_name,weight in weights_list.items():\n",
    "                fig,ax=plt.subplots()\n",
    "                im=ax.imshow(weight,cmap='plasma_r')\n",
    "                fig.colorbar(im,pad=0.03)\n",
    "                plt.savefig(os.path.join(save_root,w_name + '.pdf'),dpi=500)\n",
    "                plt.show()\n",
    "                plt.close()"
   ]
  },
  {
   "cell_type": "code",
   "execution_count": null,
   "metadata": {},
   "outputs": [],
   "source": []
  }
 ],
 "metadata": {
  "interpreter": {
   "hash": "f57785bf53e86c458d31dd8512073d1ac6cae98f342ec9a1a9a8506681d63dcb"
  },
  "kernelspec": {
   "display_name": "Python 3 (ipykernel)",
   "language": "python",
   "name": "python3"
  },
  "language_info": {
   "codemirror_mode": {
    "name": "ipython",
    "version": 3
   },
   "file_extension": ".py",
   "mimetype": "text/x-python",
   "name": "python",
   "nbconvert_exporter": "python",
   "pygments_lexer": "ipython3",
   "version": "3.9.1"
  }
 },
 "nbformat": 4,
 "nbformat_minor": 2
}
